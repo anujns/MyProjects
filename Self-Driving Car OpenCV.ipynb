{
 "cells": [
  {
   "cell_type": "code",
   "execution_count": 1,
   "metadata": {},
   "outputs": [],
   "source": [
    "import cv2\n",
    "import numpy as np\n",
    "import matplotlib.pyplot as plt\n",
    "\n",
    "# 1. Convert image to grayscale to simplify computation\n",
    "\n",
    "image = cv2.imread(\"Downloads/test_image.jpg\")\n",
    "lane_image = np.copy(image)\n",
    "\n",
    "# 2. apply canny edge detection to find steep gradient change areas.\n",
    "def canny(image):\n",
    "    gray = cv2.cvtColor(image, cv2.COLOR_RGB2GRAY)\n",
    "    # Take out gaussian noise\n",
    "    blur= cv2.GaussianBlur(gray, (5,5), 0)\n",
    "    #3. Find edges: we find areas where gradient is steep\n",
    "    # compute gradient of f(x,y) with Canny function - Canny function finds derivative - rate of change of intensity\n",
    "    canny = cv2.Canny(blur, 50, 150)\n",
    "    return canny\n",
    "\n",
    "# 3. Identify region of interest where lanes are present\n",
    "def region_of_interest(image):\n",
    "    height = image.shape[0]\n",
    "    # generate a polygonal contour.\n",
    "    polygons = np.array([\n",
    "        [(200,height), (1100, height), (550, 200)]\n",
    "    ])\n",
    "    \n",
    "    # need a black mask\n",
    "    mask = np.zeros_like(image) \n",
    "    # Now we fill the black mask with our triangle\n",
    "    cv2.fillPoly(mask, polygons, 255)\n",
    "    # bit-wise multipln of polygon mask and canny image\n",
    "    masked_image = cv2.bitwise_and(image, mask)\n",
    "    \n",
    "    return masked_image\n",
    "\n",
    "def display_lines(image, lines):\n",
    "    line_image = np.zeros_like(image)\n",
    "    if lines is not None:\n",
    "        for x1, y1, x2, y2 in lines:\n",
    "            cv2.line(line_image, (x1, y1), (x2, y2), (255,0,0), 10) # draw over a line with b/w coordinates x1,y1 and x2,y2, colour - 255,0,0(blue), thickness - 10\n",
    "    return line_image\n",
    "  \n",
    "# 5. Now we build a best fit line by finding the avg slope of lines   \n",
    "# a. first finding the avg slope, intercept\n",
    "def average_slope_intercept(image, lines):\n",
    "    left_fit = []\n",
    "    right_fit = []\n",
    "    for line in lines:\n",
    "        x1, y1, x2, y2 = line.reshape(4)\n",
    "        parameters = np.polyfit((x1,x2), (y1,y2), 1)\n",
    "        slope = parameters[0]\n",
    "        intercept = parameters[1]\n",
    "        if slope < 0:\n",
    "            left_fit.append((slope, intercept))\n",
    "        else:\n",
    "            right_fit.append((slope, intercept))\n",
    "    # extract the avg slopes and intercepts (m,c)\n",
    "    left_fit_average = np.average(left_fit, axis=0)\n",
    "    right_fit_average = np.average(right_fit, axis=0)\n",
    "    # also need to specify the coordinates (x,y) to build lines with (m,c)\n",
    "    left_line = make_coordinates(image, left_fit_average)\n",
    "    right_line = make_coordinates(image, right_fit_average)\n",
    "    return np.array([left_line, right_line])\n",
    "        \n",
    "def make_coordinates(image, line_parameters):\n",
    "    slope, intercept = line_parameters\n",
    "    y1 = image.shape[0]\n",
    "    y2 = int(y1*(3/5))\n",
    "    x1 = int((y1 - intercept)/slope)\n",
    "    x2 = int((y2 - intercept)/slope)\n",
    "    return np.array([x1, y1, x2, y2])\n",
    "    \n",
    "canny_image = canny(lane_image)\n",
    "cropped_image = region_of_interest(canny_image)  \n",
    "\n",
    "# 4. pinpont the edges using Hough Transform\n",
    "# 2nd and 3rd arguments - specify the resolution of the Hough accumulator array (2D array consisting of bins that collect votes)\n",
    "# each bin represent distinct value of rho, theta\n",
    "# rho - distance resolution, theta - angle resolution\n",
    "# larger the bins, less precision\n",
    "# Finally, how do we know which bins to choose, optimal number of votes to choose a bin??\n",
    "# Using threshold - bin containing \n",
    "    \n",
    "lines = cv2.HoughLinesP(cropped_image, 2, np.pi/180, 100, np.array([]), minLineLength=40, maxLineGap=5) \n",
    "averaged_lines = average_slope_intercept(lane_image, lines)\n",
    "line_image = display_lines(lane_image, averaged_lines)\n",
    "# combine line_image and lane_image\n",
    "combo_image = cv2.addWeighted(lane_image, 0.8, line_image, 1, 1)\n"
   ]
  },
  {
   "cell_type": "code",
   "execution_count": 3,
   "metadata": {},
   "outputs": [
    {
     "data": {
      "text/plain": [
       "-1"
      ]
     },
     "execution_count": 3,
     "metadata": {},
     "output_type": "execute_result"
    }
   ],
   "source": [
    "cv2.imshow(\"result\", combo_image)\n",
    "cv2.waitKey(0)"
   ]
  },
  {
   "cell_type": "code",
   "execution_count": 2,
   "metadata": {},
   "outputs": [],
   "source": [
    "# Let us implement this for a video\n",
    "\n",
    "cap = cv2.VideoCapture(\"Downloads/test2.mp4\")\n",
    "# while capturing has been initialized, we enter a loop\n",
    "while(cap.isOpened()):\n",
    "    _, frame = cap.read() # cap.read() decodes every video frame, '_' --> boolean placeholder that is not reqd, 'frame' - current frame\n",
    "    \n",
    "    canny_image = canny(frame) \n",
    "    cropped_image = region_of_interest(canny_image)  \n",
    "    lines = cv2.HoughLinesP(cropped_image, 2, np.pi/180, 100, np.array([]), minLineLength=40, maxLineGap=5) \n",
    "    averaged_lines = average_slope_intercept(frame, lines)\n",
    "    line_image = display_lines(frame, averaged_lines)\n",
    "    combo_image = cv2.addWeighted(frame, 0.8, line_image, 1, 1)\n",
    "    cv2.imshow(\"result\", combo_image)\n",
    "    if cv2.waitKey(1) == ord('q'):\n",
    "        break\n",
    "cap.release()\n",
    "cv2.destroyAllWindows()\n",
    "\n",
    "\n"
   ]
  },
  {
   "cell_type": "code",
   "execution_count": null,
   "metadata": {},
   "outputs": [],
   "source": []
  }
 ],
 "metadata": {
  "kernelspec": {
   "display_name": "Python 3",
   "language": "python",
   "name": "python3"
  },
  "language_info": {
   "codemirror_mode": {
    "name": "ipython",
    "version": 3
   },
   "file_extension": ".py",
   "mimetype": "text/x-python",
   "name": "python",
   "nbconvert_exporter": "python",
   "pygments_lexer": "ipython3",
   "version": "3.6.8"
  }
 },
 "nbformat": 4,
 "nbformat_minor": 2
}
